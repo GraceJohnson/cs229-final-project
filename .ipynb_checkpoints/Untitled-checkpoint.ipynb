{
 "cells": [
  {
   "cell_type": "code",
   "execution_count": 1,
   "metadata": {},
   "outputs": [
    {
     "name": "stderr",
     "output_type": "stream",
     "text": [
      "Using TensorFlow backend.\n"
     ]
    }
   ],
   "source": [
    "#import midi_functions\n",
    "import numpy as np\n",
    "\n",
    "from keras.models import Sequential\n",
    "from keras.layers import LSTM, Dense, Activation, Dropout, Flatten\n",
    "from keras.utils import np_utils\n",
    "from keras.callbacks import ModelCheckpoint\n",
    "from keras import callbacks\n",
    "from keras import optimizers\n",
    "\n",
    "from IPython.display import clear_output\n",
    "import matplotlib.pyplot as plt\n",
    "\n",
    "#import pydot as pyd\n",
    "#from IPython.display import SVG\n",
    "#from keras.utils.vis_utils import model_to_dot"
   ]
  },
  {
   "cell_type": "code",
   "execution_count": 43,
   "metadata": {},
   "outputs": [
    {
     "name": "stdout",
     "output_type": "stream",
     "text": [
      "Shortened data set\n",
      "Make sure these numbers are the same: X_orig=85, Y_orig=85, X=81, Y=74\n",
      "Number of different notes (hidden units): 74\n",
      "Shape of X: (10000, 10)\n",
      "Max: 106, Min: 21\n"
     ]
    }
   ],
   "source": [
    "input_length = 10\n",
    "X_orig = np.loadtxt('10HX.txt')\n",
    "Y_orig = np.loadtxt('10HY.txt')\n",
    "\n",
    "permutation = np.random.permutation(len(X_orig))\n",
    "X_orig = X_orig[permutation]\n",
    "Y_orig = Y_orig[permutation]\n",
    "\n",
    "print('Shortened data set')\n",
    "X = np.copy(X_orig[:10000])\n",
    "Y = np.copy(Y_orig[:10000])\n",
    "\n",
    "sorted_notes = np.unique(Y)\n",
    "\n",
    "n_notes_X_orig = len(np.unique(X_orig))\n",
    "n_notes_Y_orig = len(np.unique(Y_orig))\n",
    "n_notes_X = len(np.unique(X))\n",
    "n_notes_Y = n_hidden_units = len(sorted_notes)\n",
    "max_note = np.max(Y)\n",
    "min_note = np.min(Y)\n",
    "\n",
    "X_unnormalized = np.copy(X)\n",
    "X = X / max_note #normalize input\n",
    "\n",
    "for i,note in enumerate(Y): #make all the notes a number between 0 and number_of_different_notes\n",
    "    Y[i] = np.where(sorted_notes == note)[0]\n",
    "Y = np_utils.to_categorical(Y)\n",
    "\n",
    "print('Make sure these numbers are the same: X_orig={}, Y_orig={}, X={}, Y={}'.format(n_notes_X_orig, n_notes_Y_orig, n_notes_X, n_notes_Y))\n",
    "print('Number of different notes (hidden units): {}'.format(n_notes_Y))\n",
    "print('Shape of X: {}'.format(X.shape))\n",
    "print('Max: {}, Min: {}'.format(int(max_note), int(min_note)))\n",
    "n = X.shape[0]"
   ]
  },
  {
   "cell_type": "code",
   "execution_count": 51,
   "metadata": {},
   "outputs": [
    {
     "name": "stdout",
     "output_type": "stream",
     "text": [
      "[[ 86.  87.  86. ...  81.  82.  79.]\n",
      " [ 74.  71.  74. ...  62.  74.  67.]\n",
      " [ 76.  76.  74. ...  74.  72.  71.]\n",
      " ...\n",
      " [ 40.  40.  40. ...  35.  77.  69.]\n",
      " [ 94. 104. 103. ...  94.  92.  91.]\n",
      " [ 37.  37.  37. ...  73.  85.  85.]]\n",
      "[79. 67. 71. ... 69. 91. 85.]\n",
      "Make sure these numbers are the same: X_orig=85, Y_orig=85, X=85, Y=85\n",
      "Number of different notes (hidden units): 85\n",
      "Shape of X: (3908, 10)\n",
      "Max: 107, Min: 21\n"
     ]
    }
   ],
   "source": [
    "#Crete balanced training set\n",
    "def get_balanced_training_set(size):\n",
    "    all_notes = np.unique(X_orig)\n",
    "    count_notes_X = np.zeros(128)\n",
    "    count_notes_Y = np.zeros(128)\n",
    "    \n",
    "    notes_in_set = 0\n",
    "    index = 0\n",
    "    new_set_X = []\n",
    "    new_set_Y = []\n",
    "    \n",
    "    x = np.zeros(input_length)\n",
    "    while (notes_in_set < size and index < len(X_orig)):\n",
    "        x = X_orig[index].astype(int) \n",
    "        y = Y_orig[index].astype(int)\n",
    "        norm_count_notes_x = np.mean(count_notes_X[x] / (np.mean(count_notes_X) + 100))\n",
    "        norm_count_notes_y = count_notes_Y[y] / (np.mean(count_notes_Y) + 10)\n",
    "        if norm_count_notes_x < 1:\n",
    "            new_set_X.append(np.copy(X_orig[index]))\n",
    "            new_set_Y.append(np.copy(Y_orig[index]))\n",
    "            count_notes_X[x] += 1\n",
    "            count_notes_Y[y] += 1\n",
    "            notes_in_set += 1\n",
    "        elif norm_count_notes_y < 1:\n",
    "            new_set_X.append(np.copy(X_orig[index]))\n",
    "            new_set_Y.append(np.copy(Y_orig[index]))\n",
    "            count_notes_X[x] += 1\n",
    "            count_notes_Y[y] += 1\n",
    "            notes_in_set += 1\n",
    "        index += 1    \n",
    "        \n",
    "    return(np.array(new_set_X), np.array(new_set_Y))\n",
    "\n",
    "balanced_X, balanced_Y = get_balanced_training_set(10000)\n",
    "balanced_sorted_notes = np.unique(balanced_Y)\n",
    "n_notes_balanced_X = len(np.unique(balanced_X))\n",
    "n_notes_balanced_Y = n_hidden_units = len(sorted_notes)\n",
    "max_balanced_note = np.max(balanced_Y)\n",
    "min_balanced_note = np.min(balanced_Y)\n",
    "\n",
    "balanced_X_unnormalized = np.copy(balanced_X)\n",
    "balanced_X = balanced_X / max_note #normalize input\n",
    "\n",
    "for i,note in enumerate(balanced_Y): #make all the notes a number between 0 and number_of_different_notes\n",
    "    balanced_Y[i] = np.where(balanced_sorted_notes == note)[0]\n",
    "balanced_Y = np_utils.to_categorical(balanced_Y)\n",
    "\n",
    "print('Make sure these numbers are the same: X_orig={}, Y_orig={}, X={}, Y={}'.format(n_notes_X_orig, n_notes_Y_orig, n_notes_X, n_notes_Y))\n",
    "print('Number of different notes (hidden units): {}'.format(n_notes_Y))\n",
    "print('Shape of X: {}'.format(X.shape))\n",
    "print('Max: {}, Min: {}'.format(int(max_note), int(min_note)))\n",
    "\n",
    "n = X.shape[0]"
   ]
  },
  {
   "cell_type": "code",
   "execution_count": 48,
   "metadata": {},
   "outputs": [
    {
     "data": {
      "text/plain": [
       "Text(0.5, 1.0, 'Full dataset with 318999 examples')"
      ]
     },
     "execution_count": 48,
     "metadata": {},
     "output_type": "execute_result"
    },
    {
     "data": {
      "image/png": "[encoded data removed]",
      "text/plain": [
       "<Figure size 432x288 with 1 Axes>"
      ]
     },
     "metadata": {
      "needs_background": "light"
     },
     "output_type": "display_data"
    }
   ],
   "source": [
    "def prep_bar_plot(W):\n",
    "    s = np.unique(W)\n",
    "    counts = np.zeros(len(s))\n",
    "    for i, note in enumerate(s):\n",
    "        counts[i] = np.sum(W == note)\n",
    "    return (s,counts)\n",
    "\n",
    "s_notes, counts = prep_bar_plot(X_unnormalized)\n",
    "plt.bar(s_notes, counts)\n",
    "plt.ylabel('Counts')\n",
    "plt.xlabel('Pitch 0-127')\n",
    "plt.title('Full dataset with {} examples'.format(len(X_orig)))"
   ]
  },
  {
   "cell_type": "code",
   "execution_count": null,
   "metadata": {},
   "outputs": [],
   "source": [
    "s_notes, counts = prep_bar_plot(X_unnormalized)\n",
    "plt.bar(s_notes, counts)\n",
    "plt.ylabel('Counts')\n",
    "plt.xlabel('Pitch 0-127')\n",
    "plt.title('Reduced dataset with {} examples'.format(len(X_unnormalized)))"
   ]
  }
 ],
 "metadata": {
  "kernelspec": {
   "display_name": "Python 3",
   "language": "python",
   "name": "python3"
  },
  "language_info": {
   "codemirror_mode": {
    "name": "ipython",
    "version": 3
   },
   "file_extension": ".py",
   "mimetype": "text/x-python",
   "name": "python",
   "nbconvert_exporter": "python",
   "pygments_lexer": "ipython3",
   "version": "3.7.3"
  }
 },
 "nbformat": 4,
 "nbformat_minor": 2
}
