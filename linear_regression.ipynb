{
 "cells": [
  {
   "cell_type": "code",
   "execution_count": 1,
   "metadata": {},
   "outputs": [],
   "source": [
    "import numpy as np\n",
    "from sklearn.linear_model import LinearRegression"
   ]
  },
  {
   "cell_type": "code",
   "execution_count": 37,
   "metadata": {},
   "outputs": [],
   "source": [
    "X = np.loadtxt('./X.txt') #Features\n",
    "Y = np.loadtxt('./Y.txt') #labels\n",
    "permutation = np.random.permutation(X.shape[0])\n",
    "X = X[permutation]\n",
    "Y = Y[permutation]"
   ]
  },
  {
   "cell_type": "code",
   "execution_count": 31,
   "metadata": {},
   "outputs": [],
   "source": [
    "n,d = X.shape"
   ]
  },
  {
   "cell_type": "code",
   "execution_count": 15,
   "metadata": {},
   "outputs": [
    {
     "name": "stdout",
     "output_type": "stream",
     "text": [
      "Score on training set: 0.6236229744520896\n",
      "Score on development set: 0.11653463531003612\n"
     ]
    }
   ],
   "source": [
    "#Number of samples in training set\n",
    "num = 40\n",
    "X_train = X[:num]\n",
    "Y_train = Y[:num]\n",
    "X_dev = X[num:]\n",
    "Y_dev = Y[num:]\n",
    "\n",
    "#Lets see if it can predict all four values at once\n",
    "reg = LinearRegression()\n",
    "reg.fit(X_train, Y_train)\n",
    "\n",
    "print('Score on training set: {}'.format(reg.score(X_train,Y_train)))\n",
    "print('Score on development set: {}'.format(reg.score(X_dev,Y_dev)))"
   ]
  },
  {
   "cell_type": "code",
   "execution_count": 27,
   "metadata": {},
   "outputs": [
    {
     "name": "stdout",
     "output_type": "stream",
     "text": [
      "Label: [ 84. 100. 240. 900.], prediction: [ 80.53260949 100.         203.27720699 946.03380595]\n",
      "Label: [  80.  100.  120. 1080.], prediction: [  80.86077593  100.          189.07235129 1032.25358977]\n",
      "Label: [  83.  100.   60. 1020.], prediction: [  78.58408702  100.          203.33127362 1041.45820165]\n",
      "Label: [ 71. 100. 120. 960.], prediction: [ 78.85837975 100.         249.33389851 912.8322411 ]\n",
      "Label: [  83.  100.   60. 1020.], prediction: [  78.65835032  100.          227.96443116 1060.70354472]\n",
      "Label: [  76.  100.  180. 1260.], prediction: [  80.32693882  100.          405.95877896 1252.52624921]\n",
      "Label: [  71.  100.  120. 1320.], prediction: [  79.39463115  100.          242.8777781  1029.47374655]\n",
      "Label: [  82.  100.  240. 1080.], prediction: [  81.63531759  100.          204.0263452  1111.32038573]\n",
      "Label: [  83.  100.   60. 1020.], prediction: [  79.48104997  100.          208.86363631 1045.18708979]\n",
      "Label: [  79.  100.  180. 1080.], prediction: [  81.18875824  100.          235.58291676 1098.11500345]\n",
      "Label: [  79.  100.   60. 1380.], prediction: [  77.62231402  100.          146.79058837 1539.82214411]\n",
      "Label: [ 78. 100. 240. 840.], prediction: [ 77.08438702 100.         176.99081739 932.43331824]\n",
      "Label: [  85.  100.  120. 1080.], prediction: [  78.08868499  100.          210.80679338 1061.71727549]\n",
      "Label: [  84.  100.  180. 1080.], prediction: [  82.07347873  100.          223.46067516 1082.75369133]\n"
     ]
    }
   ],
   "source": [
    "for x, y in zip(X_dev, Y_dev):\n",
    "    print('Label: {}, prediction: {}'.format(y, reg.predict(x.reshape(1,20))[0]))"
   ]
  },
  {
   "cell_type": "code",
   "execution_count": 41,
   "metadata": {},
   "outputs": [
    {
     "name": "stdout",
     "output_type": "stream",
     "text": [
      "Score on training set: 0.18533540250997094\n",
      "Score on development set: 0.06797530874852498\n",
      "Label: 84.0, prediction: 81.98921157819099\n",
      "Label: 83.0, prediction: 77.80377174830328\n",
      "Label: 79.0, prediction: 80.44940969487014\n",
      "Label: 78.0, prediction: 79.60464567341691\n",
      "Label: 76.0, prediction: 79.26200117278808\n",
      "Label: 83.0, prediction: 84.24044985346796\n",
      "Label: 80.0, prediction: 82.63731011513471\n",
      "Label: 83.0, prediction: 80.05965283976198\n",
      "Label: 82.0, prediction: 79.00644852927068\n",
      "Label: 70.0, prediction: 79.57476352945014\n",
      "Label: 74.0, prediction: 78.33319856785262\n",
      "Label: 85.0, prediction: 81.42659435510919\n",
      "Label: 83.0, prediction: 81.00724426377471\n",
      "Label: 83.0, prediction: 77.52675307313557\n"
     ]
    }
   ],
   "source": [
    "#Prediction of nodes only\n",
    "num = 40\n",
    "X_train = X[:num,[0,4,8,12,16]]\n",
    "Y_train = Y[:num,0]\n",
    "X_dev = X[num:,[0,4,8,12,16]]\n",
    "Y_dev = Y[num:,0]\n",
    "\n",
    "reg = LinearRegression()\n",
    "reg.fit(X_train, Y_train)\n",
    "\n",
    "print('Score on training set: {}'.format(reg.score(X_train,Y_train)))\n",
    "print('Score on development set: {}'.format(reg.score(X_dev,Y_dev)))\n",
    "\n",
    "for x, y in zip(X_dev, Y_dev):\n",
    "    print('Label: {}, prediction: {}'.format(y, reg.predict(x.reshape(1,5))[0]))"
   ]
  },
  {
   "cell_type": "code",
   "execution_count": 22,
   "metadata": {},
   "outputs": [
    {
     "name": "stdout",
     "output_type": "stream",
     "text": [
      "(20, 1)\n",
      "(20, 1)\n",
      "(20, 1)\n",
      "(20, 1)\n",
      "(20, 1)\n",
      "(20, 1)\n",
      "(20, 1)\n",
      "(20, 1)\n",
      "(20, 1)\n",
      "(20, 1)\n",
      "(20, 1)\n",
      "(20, 1)\n",
      "(20, 1)\n",
      "(20, 1)\n"
     ]
    }
   ],
   "source": []
  },
  {
   "cell_type": "code",
   "execution_count": 20,
   "metadata": {},
   "outputs": [],
   "source": [
    "a = np.arange(20).reshape(10,2)"
   ]
  },
  {
   "cell_type": "code",
   "execution_count": 32,
   "metadata": {},
   "outputs": [
    {
     "data": {
      "text/plain": [
       "54"
      ]
     },
     "execution_count": 32,
     "metadata": {},
     "output_type": "execute_result"
    }
   ],
   "source": [
    "n"
   ]
  },
  {
   "cell_type": "code",
   "execution_count": 33,
   "metadata": {},
   "outputs": [
    {
     "data": {
      "text/plain": [
       "20"
      ]
     },
     "execution_count": 33,
     "metadata": {},
     "output_type": "execute_result"
    }
   ],
   "source": [
    "d"
   ]
  },
  {
   "cell_type": "code",
   "execution_count": 34,
   "metadata": {},
   "outputs": [
    {
     "data": {
      "text/plain": [
       "array([[84., 83., 82., 78., 79.],\n",
       "       [78., 76., 83., 81., 78.],\n",
       "       [83., 82., 70., 71., 83.],\n",
       "       [76., 79., 83., 79., 83.],\n",
       "       [81., 78., 76., 79., 78.],\n",
       "       [86., 85., 84., 80., 84.],\n",
       "       [86., 85., 84., 80., 84.],\n",
       "       [80., 84., 83., 82., 78.],\n",
       "       [82., 70., 71., 83., 79.],\n",
       "       [83., 79., 83., 79., 83.],\n",
       "       [84., 80., 84., 83., 82.],\n",
       "       [78., 79., 76., 79., 83.],\n",
       "       [80., 84., 83., 82., 78.],\n",
       "       [71., 83., 79., 83., 79.],\n",
       "       [79., 76., 79., 83., 79.],\n",
       "       [79., 83., 79., 86., 85.],\n",
       "       [79., 78., 76., 83., 81.],\n",
       "       [83., 79., 83., 79., 86.],\n",
       "       [71., 76., 79., 78., 76.],\n",
       "       [71., 71., 76., 79., 78.],\n",
       "       [82., 78., 79., 76., 79.],\n",
       "       [79., 83., 79., 84., 83.],\n",
       "       [79., 83., 79., 83., 79.],\n",
       "       [78., 79., 83., 82., 70.],\n",
       "       [70., 71., 83., 79., 83.],\n",
       "       [84., 83., 82., 78., 79.],\n",
       "       [76., 83., 81., 78., 76.],\n",
       "       [78., 76., 79., 78., 74.],\n",
       "       [85., 84., 80., 84., 83.],\n",
       "       [84., 80., 84., 83., 82.],\n",
       "       [76., 83., 86., 85., 84.],\n",
       "       [77., 71., 71., 76., 79.],\n",
       "       [71., 76., 79., 78., 76.],\n",
       "       [76., 79., 78., 76., 83.],\n",
       "       [83., 82., 78., 79., 83.],\n",
       "       [76., 79., 78., 76., 83.],\n",
       "       [83., 82., 78., 79., 76.],\n",
       "       [83., 81., 78., 76., 79.],\n",
       "       [79., 83., 82., 70., 71.],\n",
       "       [74., 77., 71., 71., 76.],\n",
       "       [79., 78., 76., 83., 86.],\n",
       "       [78., 76., 83., 86., 85.],\n",
       "       [83., 86., 85., 84., 80.],\n",
       "       [82., 78., 79., 83., 82.],\n",
       "       [79., 84., 83., 82., 78.],\n",
       "       [79., 78., 74., 77., 71.],\n",
       "       [76., 79., 78., 74., 77.],\n",
       "       [83., 79., 83., 79., 84.],\n",
       "       [79., 86., 85., 84., 80.],\n",
       "       [83., 79., 84., 83., 82.],\n",
       "       [78., 74., 77., 71., 71.],\n",
       "       [85., 84., 80., 84., 83.],\n",
       "       [79., 83., 79., 83., 79.],\n",
       "       [83., 79., 86., 85., 84.]])"
      ]
     },
     "execution_count": 34,
     "metadata": {},
     "output_type": "execute_result"
    }
   ],
   "source": [
    "X[:,[0,4,8,12,16]]"
   ]
  },
  {
   "cell_type": "code",
   "execution_count": null,
   "metadata": {},
   "outputs": [],
   "source": []
  }
 ],
 "metadata": {
  "kernelspec": {
   "display_name": "Python 3",
   "language": "python",
   "name": "python3"
  },
  "language_info": {
   "codemirror_mode": {
    "name": "ipython",
    "version": 3
   },
   "file_extension": ".py",
   "mimetype": "text/x-python",
   "name": "python",
   "nbconvert_exporter": "python",
   "pygments_lexer": "ipython3",
   "version": "3.7.1"
  }
 },
 "nbformat": 4,
 "nbformat_minor": 2
}
