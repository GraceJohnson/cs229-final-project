{
 "cells": [
  {
   "cell_type": "code",
   "execution_count": 18,
   "metadata": {},
   "outputs": [],
   "source": [
    "import numpy as np\n",
    "from matplotlib import pyplot as plt"
   ]
  },
  {
   "cell_type": "code",
   "execution_count": 24,
   "metadata": {},
   "outputs": [],
   "source": [
    "X_orig = np.loadtxt('notes/50clementiX.txt')\n",
    "Y_orig = np.loadtxt('notes/50clementiY.txt')"
   ]
  },
  {
   "cell_type": "code",
   "execution_count": 14,
   "metadata": {},
   "outputs": [
    {
     "name": "stdout",
     "output_type": "stream",
     "text": [
      "X=82, Y=80\n",
      "Shape of X: (10000, 10)\n",
      "Max: 106.0, Min: 25.0\n"
     ]
    }
   ],
   "source": [
    "#Crete balanced training set of SIZE\n",
    "SIZE = 10000\n",
    "input_length = 50\n",
    "\n",
    "X_orig = np.loadtxt('notes/50X.txt')\n",
    "Y_orig = np.loadtxt('notes/50Y.txt')\n",
    "all_notes = np.unique(X_orig)\n",
    "count_notes_X = np.zeros(128)\n",
    "count_notes_Y = np.zeros(128)\n",
    "    \n",
    "notes_in_set = 0\n",
    "index = 0\n",
    "new_set_X = []\n",
    "new_set_Y = []\n",
    "    \n",
    "x = np.zeros(input_length)\n",
    "while (notes_in_set < SIZE and index < len(X_orig)):\n",
    "    x = np.copy(X_orig[index].astype(int)) \n",
    "    y = np.copy(Y_orig[index].astype(int))\n",
    "    norm_count_notes_x = np.mean(count_notes_X[x] / (np.mean(count_notes_X) + 500))\n",
    "    norm_count_notes_y = count_notes_Y[y] / (np.mean(count_notes_Y) + 50)\n",
    "    if norm_count_notes_x < 1:\n",
    "        new_set_X.append(np.copy(X_orig[index]))\n",
    "        new_set_Y.append(np.copy(Y_orig[index]))\n",
    "        count_notes_X[x] += 1\n",
    "        count_notes_Y[y] += 1\n",
    "        notes_in_set += 1\n",
    "    elif norm_count_notes_y < 1:\n",
    "        new_set_X.append(np.copy(X_orig[index]))\n",
    "        new_set_Y.append(np.copy(Y_orig[index]))\n",
    "        count_notes_X[x] += 1\n",
    "        count_notes_Y[y] += 1\n",
    "        notes_in_set += 1\n",
    "    index += 1    \n",
    "        \n",
    "X = np.array(new_set_X)\n",
    "Y = np.array(new_set_Y)\n",
    "\n",
    "sorted_notes = np.unique(Y)\n",
    "max_note = np.max(Y)\n",
    "min_note = np.min(Y)\n",
    "\n",
    "print('X={}, Y={}'.format(len(np.unique(X)),len(np.unique(Y))))\n",
    "print('Shape of X: {}'.format(X.shape))\n",
    "print('Max: {}, Min: {}'.format(max_note, min_note))"
   ]
  },
  {
   "cell_type": "code",
   "execution_count": 16,
   "metadata": {},
   "outputs": [],
   "source": [
    "#Run this if you want to save the normalized data set\n",
    "np.savetxt('notes/norm10X.txt',X,fmt='%i')\n",
    "np.savetxt('notes/norm10Y.txt',Y,fmt='%i')\n",
    "np.savetxt('notes/norm_sorted_notes.txt',sorted_notes,fmt='%i')"
   ]
  },
  {
   "cell_type": "code",
   "execution_count": 19,
   "metadata": {},
   "outputs": [
    {
     "data": {
      "text/plain": [
       "Text(0.5, 1.0, 'Full dataset with 318594 examples')"
      ]
     },
     "execution_count": 19,
     "metadata": {},
     "output_type": "execute_result"
    },
    {
     "data": {
      "image/png": "[encoded data removed]",
      "text/plain": [
       "<Figure size 432x288 with 1 Axes>"
      ]
     },
     "metadata": {
      "needs_background": "light"
     },
     "output_type": "display_data"
    }
   ],
   "source": [
    "#Plots of note distribution\n",
    "def prep_bar_plot(W):\n",
    "    s = np.unique(W)\n",
    "    counts = np.zeros(len(s))\n",
    "    for i, note in enumerate(s):\n",
    "        counts[i] = np.sum(W == note)\n",
    "    return (s,counts)\n",
    "\n",
    "s_notes, counts = prep_bar_plot(X_orig)\n",
    "plt.bar(s_notes, counts)\n",
    "plt.ylabel('Counts')\n",
    "plt.xlabel('Pitch 0-127')\n",
    "plt.title('Full dataset with {} examples'.format(len(X_orig)))"
   ]
  },
  {
   "cell_type": "code",
   "execution_count": 20,
   "metadata": {},
   "outputs": [
    {
     "data": {
      "text/plain": [
       "Text(0.5, 1.0, 'Full dataset with 10000 examples')"
      ]
     },
     "execution_count": 20,
     "metadata": {},
     "output_type": "execute_result"
    },
    {
     "data": {
      "image/png": "[encoded data removed]",
      "text/plain": [
       "<Figure size 432x288 with 1 Axes>"
      ]
     },
     "metadata": {
      "needs_background": "light"
     },
     "output_type": "display_data"
    }
   ],
   "source": [
    "#Normalized data set\n",
    "s_notes, counts = prep_bar_plot(X)\n",
    "plt.bar(s_notes, counts)\n",
    "plt.ylabel('Counts')\n",
    "plt.xlabel('Pitch 0-127')\n",
    "plt.title('Full dataset with {} examples'.format(len(X)))"
   ]
  },
  {
   "cell_type": "code",
   "execution_count": 21,
   "metadata": {},
   "outputs": [
    {
     "name": "stdout",
     "output_type": "stream",
     "text": [
      "X=82, Y=80\n",
      "Shape of X: (10000, 10)\n",
      "Max: 106.0, Min: 24.0\n"
     ]
    }
   ],
   "source": [
    "#Crete balanced hijacked training set of SIZE\n",
    "SIZE = 10000\n",
    "input_length = 50\n",
    "\n",
    "X_orig = np.loadtxt('notes/10HX.txt')\n",
    "Y_orig = np.loadtxt('notes/10HY.txt')\n",
    "all_notes = np.unique(X_orig)\n",
    "count_notes_X = np.zeros(128)\n",
    "count_notes_Y = np.zeros(128)\n",
    "    \n",
    "notes_in_set = 0\n",
    "index = 0\n",
    "new_set_X = []\n",
    "new_set_Y = []\n",
    "    \n",
    "x = np.zeros(input_length)\n",
    "while (notes_in_set < SIZE and index < len(X_orig)):\n",
    "    x = np.copy(X_orig[index].astype(int)) \n",
    "    y = np.copy(Y_orig[index].astype(int))\n",
    "    norm_count_notes_x = np.mean(count_notes_X[x] / (np.mean(count_notes_X) + 500))\n",
    "    norm_count_notes_y = count_notes_Y[y] / (np.mean(count_notes_Y) + 50)\n",
    "    if norm_count_notes_x < 1:\n",
    "        new_set_X.append(np.copy(X_orig[index]))\n",
    "        new_set_Y.append(np.copy(Y_orig[index]))\n",
    "        count_notes_X[x] += 1\n",
    "        count_notes_Y[y] += 1\n",
    "        notes_in_set += 1\n",
    "    elif norm_count_notes_y < 1:\n",
    "        new_set_X.append(np.copy(X_orig[index]))\n",
    "        new_set_Y.append(np.copy(Y_orig[index]))\n",
    "        count_notes_X[x] += 1\n",
    "        count_notes_Y[y] += 1\n",
    "        notes_in_set += 1\n",
    "    index += 1    \n",
    "        \n",
    "X = np.array(new_set_X)\n",
    "Y = np.array(new_set_Y)\n",
    "\n",
    "sorted_notes = np.unique(Y)\n",
    "max_note = np.max(Y)\n",
    "min_note = np.min(Y)\n",
    "\n",
    "print('X={}, Y={}'.format(len(np.unique(X)),len(np.unique(Y))))\n",
    "print('Shape of X: {}'.format(X.shape))\n",
    "print('Max: {}, Min: {}'.format(max_note, min_note))"
   ]
  },
  {
   "cell_type": "code",
   "execution_count": 22,
   "metadata": {},
   "outputs": [],
   "source": [
    "#Run this if you want to save the normalized data set\n",
    "np.savetxt('notes/norm10HX.txt',X,fmt='%i')\n",
    "np.savetxt('notes/norm10HY.txt',Y,fmt='%i')\n",
    "np.savetxt('notes/norm_sorted_notesH.txt',sorted_notes,fmt='%i')"
   ]
  },
  {
   "cell_type": "code",
   "execution_count": 23,
   "metadata": {},
   "outputs": [
    {
     "data": {
      "text/plain": [
       "Text(0.5, 1.0, 'Full dataset with 10000 examples')"
      ]
     },
     "execution_count": 23,
     "metadata": {},
     "output_type": "execute_result"
    },
    {
     "data": {
      "image/png": "[encoded data removed]",
      "text/plain": [
       "<Figure size 432x288 with 1 Axes>"
      ]
     },
     "metadata": {
      "needs_background": "light"
     },
     "output_type": "display_data"
    }
   ],
   "source": [
    "#Normalized data set\n",
    "s_notes, counts = prep_bar_plot(X)\n",
    "plt.bar(s_notes, counts)\n",
    "plt.ylabel('Counts')\n",
    "plt.xlabel('Pitch 0-127')\n",
    "plt.title('Full dataset with {} examples'.format(len(X)))"
   ]
  }
 ],
 "metadata": {
  "kernelspec": {
   "display_name": "Python 3",
   "language": "python",
   "name": "python3"
  },
  "language_info": {
   "codemirror_mode": {
    "name": "ipython",
    "version": 3
   },
   "file_extension": ".py",
   "mimetype": "text/x-python",
   "name": "python",
   "nbconvert_exporter": "python",
   "pygments_lexer": "ipython3",
   "version": "3.7.1"
  }
 },
 "nbformat": 4,
 "nbformat_minor": 2
}
