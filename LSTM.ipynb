{
 "cells": [
  {
   "cell_type": "code",
   "execution_count": 1,
   "metadata": {},
   "outputs": [
    {
     "name": "stderr",
     "output_type": "stream",
     "text": [
      "Using TensorFlow backend.\n"
     ]
    }
   ],
   "source": [
    "import midi_functions\n",
    "import numpy as np\n",
    "\n",
    "from keras.models import Sequential\n",
    "from keras.layers import LSTM, Dense, Activation, Dropout, Flatten\n",
    "from keras.utils import np_utils\n",
    "from keras.callbacks import ModelCheckpoint\n",
    "from keras import callbacks\n",
    "from keras import optimizers\n",
    "\n",
    "from IPython.display import clear_output\n",
    "import matplotlib.pyplot as plt\n",
    "\n",
    "\n",
    "\n",
    "#import pydot as pyd\n",
    "#from IPython.display import SVG\n",
    "#from keras.utils.vis_utils import model_to_dot"
   ]
  },
  {
   "cell_type": "code",
   "execution_count": 2,
   "metadata": {},
   "outputs": [
    {
     "name": "stdout",
     "output_type": "stream",
     "text": [
      "Number of different notes: 67\n",
      "Shape of X: (9976, 10)\n",
      "Max: 100, Min: 32\n"
     ]
    }
   ],
   "source": [
    "input_length = 10\n",
    "X = np.loadtxt('X.txt')\n",
    "Y = np.loadtxt('Y.txt')\n",
    "\n",
    "n = len(X)\n",
    "permutation = np.random.permutation(n)\n",
    "X = X[permutation]\n",
    "Y = Y[permutation]\n",
    "\n",
    "sorted_notes = np.copy(Y)\n",
    "sorted_notes.sort()\n",
    "sorted_notes = np.unique(sorted_notes)\n",
    "\n",
    "number_of_different_notes = len(sorted_notes)\n",
    "max_note = np.max(Y)\n",
    "min_note = np.min(Y)\n",
    "\n",
    "X = X / max_note #normalize input\n",
    "\n",
    "for i,note in enumerate(Y): #make all the notes a number between 0 and number_of_different_notes\n",
    "    Y[i] = np.where(sorted_notes == note)[0]\n",
    "Y = np_utils.to_categorical(Y)\n",
    "\n",
    "print('Number of different notes: {}'.format(number_of_different_notes))\n",
    "print('Shape of X: {}'.format(X.shape))\n",
    "print('Max: {}, Min: {}'.format(int(max_note), int(min_note)))\n",
    "\n",
    "n = X.shape[0]"
   ]
  },
  {
   "cell_type": "code",
   "execution_count": 3,
   "metadata": {},
   "outputs": [
    {
     "name": "stdout",
     "output_type": "stream",
     "text": [
      "WARNING:tensorflow:From /anaconda3/lib/python3.6/site-packages/tensorflow/python/framework/op_def_library.py:263: colocate_with (from tensorflow.python.framework.ops) is deprecated and will be removed in a future version.\n",
      "Instructions for updating:\n",
      "Colocations handled automatically by placer.\n",
      "_________________________________________________________________\n",
      "Layer (type)                 Output Shape              Param #   \n",
      "=================================================================\n",
      "lstm_1 (LSTM)                (None, 10, 256)           264192    \n",
      "_________________________________________________________________\n",
      "lstm_2 (LSTM)                (None, 67)                86832     \n",
      "_________________________________________________________________\n",
      "dense_1 (Dense)              (None, 67)                4556      \n",
      "_________________________________________________________________\n",
      "activation_1 (Activation)    (None, 67)                0         \n",
      "=================================================================\n",
      "Total params: 355,580\n",
      "Trainable params: 355,580\n",
      "Non-trainable params: 0\n",
      "_________________________________________________________________\n",
      "None\n"
     ]
    }
   ],
   "source": [
    "n_hidden_units = number_of_different_notes #this should probably be the number of different notes since it is also the output of softmax\n",
    "\n",
    "model = Sequential()\n",
    "model.add(LSTM(\n",
    "    256,\n",
    "    input_shape=((input_length,1)),\n",
    "    return_sequences=True\n",
    "))\n",
    "model.add(LSTM(n_hidden_units, return_sequences=False))\n",
    "#model.add(Dropout(0.3))\n",
    "model.add(Dense(n_hidden_units))\n",
    "model.add(Activation('softmax'))\n",
    "rmsprop = optimizers.RMSprop(lr=0.002, rho=0.9, epsilon=None, decay=0.0)\n",
    "model.compile(loss='categorical_crossentropy', optimizer='rmsprop',metrics=['accuracy'])\n",
    "# Load the weights to each node\n",
    "#model.load_weights('weights.hdf5')\n",
    "\n",
    "\n",
    "#plot_model(model, to_file='model_plot.png', show_shapes=True, show_layer_names=True)\n",
    "print(model.summary())\n",
    "#print(model.get_weights())"
   ]
  },
  {
   "cell_type": "code",
   "execution_count": 4,
   "metadata": {},
   "outputs": [],
   "source": [
    "class live_plot(callbacks.Callback):\n",
    "    def on_train_begin(self, logs={}):\n",
    "        self.index = 0\n",
    "        self.epochs = []\n",
    "        \n",
    "        self.losses = []\n",
    "        self.val_losses = []\n",
    "        \n",
    "        self.acc = []\n",
    "        self.val_acc = []\n",
    "        \n",
    "        self.logs = []\n",
    "\n",
    "    def on_epoch_end(self, epoch, logs={}):\n",
    "        \n",
    "        self.logs.append(logs)\n",
    "        self.epochs.append(self.index)\n",
    "        \n",
    "        self.losses.append(logs.get('loss'))\n",
    "        self.val_losses.append(logs.get('val_loss'))\n",
    "        \n",
    "        self.acc.append(logs.get('acc'))\n",
    "        self.val_acc.append(logs['val_acc'])\n",
    "        self.index += 1\n",
    "        \n",
    "        clear_output(wait=True)\n",
    "        plt.plot(self.epochs, self.losses, label=\"loss\")\n",
    "        plt.plot(self.epochs, self.val_losses, label=\"val_loss\")\n",
    "        plt.legend()\n",
    "        plt.show();\n",
    "        \n",
    "        plt.plot(self.epochs, self.acc, label=\"acc\")\n",
    "        plt.plot(self.epochs, self.val_acc, label=\"val_acc\")\n",
    "        plt.legend()\n",
    "        plt.show();"
   ]
  },
  {
   "cell_type": "code",
   "execution_count": 5,
   "metadata": {},
   "outputs": [
    {
     "data": {
      "image/png": "[encoded data removed]",
      "text/plain": [
       "<Figure size 432x288 with 1 Axes>"
      ]
     },
     "metadata": {
      "needs_background": "light"
     },
     "output_type": "display_data"
    },
    {
     "data": {
      "image/png": "[encoded data removed]",
      "text/plain": [
       "<Figure size 432x288 with 1 Axes>"
      ]
     },
     "metadata": {
      "needs_background": "light"
     },
     "output_type": "display_data"
    }
   ],
   "source": [
    "filepath = \"./weights/2LSTM-{epoch:02d}-{loss:.4f}.hdf5\"    \n",
    "checkpoint = ModelCheckpoint(\n",
    "    filepath, monitor='loss', \n",
    "    verbose=0,        \n",
    "    save_best_only=True,        \n",
    "    mode='min'\n",
    ")\n",
    "\n",
    "plot = live_plot()\n",
    "\n",
    "callbacks_list = [checkpoint, plot]     \n",
    "fit_data = model.fit(X.reshape(n, input_length, 1), Y, validation_split=0.20,epochs=2, batch_size=64, callbacks=callbacks_list)"
   ]
  },
  {
   "cell_type": "code",
   "execution_count": 20,
   "metadata": {},
   "outputs": [
    {
     "name": "stdout",
     "output_type": "stream",
     "text": [
      "dict_keys(['val_loss', 'val_acc', 'loss', 'acc'])\n"
     ]
    },
    {
     "data": {
      "image/png": "[encoded data removed]",
      "text/plain": [
       "<Figure size 432x288 with 1 Axes>"
      ]
     },
     "metadata": {
      "needs_background": "light"
     },
     "output_type": "display_data"
    },
    {
     "data": {
      "image/png": "[encoded data removed]",
      "text/plain": [
       "<Figure size 432x288 with 1 Axes>"
      ]
     },
     "metadata": {
      "needs_background": "light"
     },
     "output_type": "display_data"
    }
   ],
   "source": [
    "print(fit_data.history.keys())\n",
    "# summarize history for accuracy\n",
    "plt.plot(fit_data.history['acc'])\n",
    "plt.plot(fit_data.history['val_acc'])\n",
    "plt.title('model accuracy')\n",
    "plt.ylabel('accuracy')\n",
    "plt.xlabel('epoch')\n",
    "plt.legend(['train', 'test'], loc='upper left')\n",
    "plt.show()\n",
    "# summarize history for loss\n",
    "plt.plot(fit_data.history['loss'])\n",
    "plt.plot(fit_data.history['val_loss'])\n",
    "plt.title('model loss')\n",
    "plt.ylabel('loss')\n",
    "plt.xlabel('epoch')\n",
    "plt.legend(['train', 'test'], loc='upper left')\n",
    "plt.show()"
   ]
  },
  {
   "cell_type": "code",
   "execution_count": 9,
   "metadata": {},
   "outputs": [],
   "source": [
    "#Generate 200 notes\n",
    "\n",
    "#random sequence to initialize predictions\n",
    "init = X[np.random.randint(0,len(X))]\n",
    "\n",
    "predicted_notes = np.zeros(200 + input_length)\n",
    "predicted_notes[0:input_length] = init\n",
    "\n",
    "for note_index in range(200):\n",
    "    x = predicted_notes[note_index:note_index + input_length]\n",
    "    #print('Input: {}'.format(x))\n",
    "    prediction = model.predict(x.reshape(1,10,1))\n",
    "    #print('Prediction: {}'.format(np.argmax(prediction)))\n",
    "    predicted_notes[note_index + input_length] = sorted_notes[np.argmax(prediction)] / max_note\n",
    "predicted_notes = predicted_notes * max_note"
   ]
  },
  {
   "cell_type": "code",
   "execution_count": 10,
   "metadata": {},
   "outputs": [
    {
     "data": {
      "text/plain": [
       "array([66., 51., 66., 68., 52., 68., 70., 52., 70., 71., 60., 60., 67.,\n",
       "       60., 60., 72., 72., 60., 72., 72., 60., 60., 72., 67., 72., 72.,\n",
       "       72., 72., 72., 72., 72., 72., 72., 72., 72., 72., 72., 72., 72.,\n",
       "       72., 72., 72., 72., 72., 72., 72., 72., 72., 72., 72., 72., 72.,\n",
       "       72., 72., 72., 72., 72., 72., 72., 72., 72., 72., 72., 72., 72.,\n",
       "       72., 72., 72., 72., 72., 72., 72., 72., 72., 72., 72., 72., 72.,\n",
       "       72., 72., 72., 72., 72., 72., 72., 72., 72., 72., 72., 72., 72.,\n",
       "       72., 72., 72., 72., 72., 72., 72., 72., 72., 72., 72., 72., 72.,\n",
       "       72., 72., 72., 72., 72., 72., 72., 72., 72., 72., 72., 72., 72.,\n",
       "       72., 72., 72., 72., 72., 72., 72., 72., 72., 72., 72., 72., 72.,\n",
       "       72., 72., 72., 72., 72., 72., 72., 72., 72., 72., 72., 72., 72.,\n",
       "       72., 72., 72., 72., 72., 72., 72., 72., 72., 72., 72., 72., 72.,\n",
       "       72., 72., 72., 72., 72., 72., 72., 72., 72., 72., 72., 72., 72.,\n",
       "       72., 72., 72., 72., 72., 72., 72., 72., 72., 72., 72., 72., 72.,\n",
       "       72., 72., 72., 72., 72., 72., 72., 72., 72., 72., 72., 72., 72.,\n",
       "       72., 72., 72., 72., 72., 72., 72., 72., 72., 72., 72., 72., 72.,\n",
       "       72., 72.])"
      ]
     },
     "execution_count": 10,
     "metadata": {},
     "output_type": "execute_result"
    }
   ],
   "source": [
    "predicted_notes"
   ]
  },
  {
   "cell_type": "code",
   "execution_count": 11,
   "metadata": {},
   "outputs": [],
   "source": [
    "midi_functions.create_midi_from_notes(predicted_notes)"
   ]
  },
  {
   "cell_type": "code",
   "execution_count": null,
   "metadata": {},
   "outputs": [],
   "source": []
  }
 ],
 "metadata": {
  "kernelspec": {
   "display_name": "Python 3",
   "language": "python",
   "name": "python3"
  },
  "language_info": {
   "codemirror_mode": {
    "name": "ipython",
    "version": 3
   },
   "file_extension": ".py",
   "mimetype": "text/x-python",
   "name": "python",
   "nbconvert_exporter": "python",
   "pygments_lexer": "ipython3",
   "version": "3.6.8"
  }
 },
 "nbformat": 4,
 "nbformat_minor": 2
}
